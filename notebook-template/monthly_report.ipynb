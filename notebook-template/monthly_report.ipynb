{
 "cells": [
  {
   "cell_type": "code",
   "execution_count": null,
   "metadata": {},
   "outputs": [],
   "source": [
    "import glob\n",
    "import pandas as pd\n",
    "import re\n",
    "import datetime\n",
    "\n",
    "from kakeibo.import_data import import_data\n",
    "from kakeibo.analyse import create_monthly_report"
   ]
  },
  {
   "cell_type": "code",
   "execution_count": null,
   "metadata": {
    "tags": [
     "parameters"
    ]
   },
   "outputs": [],
   "source": [
    "year=2018\n",
    "month=8\n",
    "\n",
    "rakuten_dir = \"data/rakuten\"\n",
    "jwest_dir = \"data/jwest\"\n",
    "lawson_dir = \"data/lawson\""
   ]
  },
  {
   "cell_type": "code",
   "execution_count": null,
   "metadata": {},
   "outputs": [],
   "source": [
    "data_rakuten = import_data(rakuten_dir, data_type='rakuten')\n",
    "data_jwest = import_data(jwest_dir, data_type='jwest')\n",
    "data_lawson = import_data(lawson_dir, data_type='lawson')\n",
    "\n",
    "data_all = data_rakuten+data_jwest+data_lawson\n",
    "data_all = sorted(data_all, key=lambda x: x.date)\n",
    "dict_all = [a.to_dict() for a in data_all]"
   ]
  },
  {
   "cell_type": "code",
   "execution_count": null,
   "metadata": {},
   "outputs": [],
   "source": [
    "df = create_monthly_report(dict_all, year, month, notebook=True)"
   ]
  },
  {
   "cell_type": "code",
   "execution_count": null,
   "metadata": {},
   "outputs": [],
   "source": [
    "#合計\n",
    "sum(df['Charge'])"
   ]
  },
  {
   "cell_type": "code",
   "execution_count": null,
   "metadata": {},
   "outputs": [],
   "source": [
    "#内訳\n",
    "df"
   ]
  }
 ],
 "metadata": {
  "celltoolbar": "Tags",
  "kernelspec": {
   "display_name": "Python 3",
   "language": "python",
   "name": "python3"
  },
  "language_info": {
   "codemirror_mode": {
    "name": "ipython",
    "version": 3
   },
   "file_extension": ".py",
   "mimetype": "text/x-python",
   "name": "python",
   "nbconvert_exporter": "python",
   "pygments_lexer": "ipython3",
   "version": "3.7.5"
  }
 },
 "nbformat": 4,
 "nbformat_minor": 4
}